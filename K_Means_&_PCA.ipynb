{
  "nbformat": 4,
  "nbformat_minor": 0,
  "metadata": {
    "colab": {
      "provenance": [],
      "authorship_tag": "ABX9TyM8RtHxNqs/zib4ug1uygdC",
      "include_colab_link": true
    },
    "kernelspec": {
      "name": "python3",
      "display_name": "Python 3"
    },
    "language_info": {
      "name": "python"
    }
  },
  "cells": [
    {
      "cell_type": "markdown",
      "metadata": {
        "id": "view-in-github",
        "colab_type": "text"
      },
      "source": [
        "<a href=\"https://colab.research.google.com/github/aa1132025/README/blob/main/K_Means_%26_PCA.ipynb\" target=\"_parent\"><img src=\"https://colab.research.google.com/assets/colab-badge.svg\" alt=\"Open In Colab\"/></a>"
      ]
    },
    {
      "cell_type": "markdown",
      "source": [
        "****Clustering Online Data with K-Means, Elbow Method, and PCA**** bold text\n",
        "\n",
        "You’ll explore an online retail dataset using K-Means clustering to group similar items, the Elbow Method to find the best number of clusters, and PCA to simplify the data for visualization. It runs on Google Colab—no setup needed! Share your work on GitHub under an MIT License.\n",
        "\n",
        "**Learning Objectives**\n",
        "\n",
        "* Use K-Means clustering to find groups in data.\n",
        "\n",
        "* Apply the Elbow Method to pick the right number of clusters.\n",
        "* Simplify data with PCA for visualization.\n",
        "* Work with a real online dataset.\n",
        "* Share your ML project online.\n",
        "\n",
        "**Tools**\n",
        "\n",
        "* Platform: Google Colab (free)\n",
        "* Libraries: scikit-learn, pandas, matplotlib, seaborn\n",
        "* Dataset: UCI Online RetailLinks to an external site.\n",
        "* GitHub: For sharing\n",
        "* License: MIT License"
      ],
      "metadata": {
        "id": "Du04E5e4ccDE"
      }
    },
    {
      "cell_type": "markdown",
      "source": [
        "**Objective 1: Setting Up and Loading Data**\n",
        "\n",
        "**Goal:** Start Colab and load the dataset.\n",
        "\n",
        "**What You’ll Learn:** Handling real-world data."
      ],
      "metadata": {
        "id": "WSoJAgAYdiOs"
      }
    },
    {
      "cell_type": "code",
      "execution_count": null,
      "metadata": {
        "colab": {
          "base_uri": "https://localhost:8080/"
        },
        "id": "nQtSTkUkb38T",
        "outputId": "7028e8ac-ca35-4b37-d5b8-d45f049f11e4"
      },
      "outputs": [
        {
          "output_type": "stream",
          "name": "stdout",
          "text": [
            "Requirement already satisfied: pandas in /usr/local/lib/python3.11/dist-packages (2.2.2)\n",
            "Requirement already satisfied: scikit-learn in /usr/local/lib/python3.11/dist-packages (1.6.1)\n",
            "Requirement already satisfied: matplotlib in /usr/local/lib/python3.11/dist-packages (3.10.0)\n",
            "Requirement already satisfied: seaborn in /usr/local/lib/python3.11/dist-packages (0.13.2)\n",
            "Requirement already satisfied: openpyxl in /usr/local/lib/python3.11/dist-packages (3.1.5)\n",
            "Requirement already satisfied: numpy>=1.23.2 in /usr/local/lib/python3.11/dist-packages (from pandas) (2.0.2)\n",
            "Requirement already satisfied: python-dateutil>=2.8.2 in /usr/local/lib/python3.11/dist-packages (from pandas) (2.8.2)\n",
            "Requirement already satisfied: pytz>=2020.1 in /usr/local/lib/python3.11/dist-packages (from pandas) (2025.2)\n",
            "Requirement already satisfied: tzdata>=2022.7 in /usr/local/lib/python3.11/dist-packages (from pandas) (2025.2)\n",
            "Requirement already satisfied: scipy>=1.6.0 in /usr/local/lib/python3.11/dist-packages (from scikit-learn) (1.14.1)\n",
            "Requirement already satisfied: joblib>=1.2.0 in /usr/local/lib/python3.11/dist-packages (from scikit-learn) (1.4.2)\n",
            "Requirement already satisfied: threadpoolctl>=3.1.0 in /usr/local/lib/python3.11/dist-packages (from scikit-learn) (3.6.0)\n",
            "Requirement already satisfied: contourpy>=1.0.1 in /usr/local/lib/python3.11/dist-packages (from matplotlib) (1.3.1)\n",
            "Requirement already satisfied: cycler>=0.10 in /usr/local/lib/python3.11/dist-packages (from matplotlib) (0.12.1)\n",
            "Requirement already satisfied: fonttools>=4.22.0 in /usr/local/lib/python3.11/dist-packages (from matplotlib) (4.57.0)\n",
            "Requirement already satisfied: kiwisolver>=1.3.1 in /usr/local/lib/python3.11/dist-packages (from matplotlib) (1.4.8)\n",
            "Requirement already satisfied: packaging>=20.0 in /usr/local/lib/python3.11/dist-packages (from matplotlib) (24.2)\n",
            "Requirement already satisfied: pillow>=8 in /usr/local/lib/python3.11/dist-packages (from matplotlib) (11.1.0)\n",
            "Requirement already satisfied: pyparsing>=2.3.1 in /usr/local/lib/python3.11/dist-packages (from matplotlib) (3.2.3)\n",
            "Requirement already satisfied: et-xmlfile in /usr/local/lib/python3.11/dist-packages (from openpyxl) (2.0.0)\n",
            "Requirement already satisfied: six>=1.5 in /usr/local/lib/python3.11/dist-packages (from python-dateutil>=2.8.2->pandas) (1.17.0)\n",
            "  InvoiceNo StockCode                          Description  Quantity  \\\n",
            "0    536365    85123A   WHITE HANGING HEART T-LIGHT HOLDER         6   \n",
            "1    536365     71053                  WHITE METAL LANTERN         6   \n",
            "2    536365    84406B       CREAM CUPID HEARTS COAT HANGER         8   \n",
            "3    536365    84029G  KNITTED UNION FLAG HOT WATER BOTTLE         6   \n",
            "4    536365    84029E       RED WOOLLY HOTTIE WHITE HEART.         6   \n",
            "\n",
            "          InvoiceDate  UnitPrice  CustomerID         Country  \n",
            "0 2010-12-01 08:26:00       2.55     17850.0  United Kingdom  \n",
            "1 2010-12-01 08:26:00       3.39     17850.0  United Kingdom  \n",
            "2 2010-12-01 08:26:00       2.75     17850.0  United Kingdom  \n",
            "3 2010-12-01 08:26:00       3.39     17850.0  United Kingdom  \n",
            "4 2010-12-01 08:26:00       3.39     17850.0  United Kingdom  \n",
            "(541909, 8)\n"
          ]
        }
      ],
      "source": [
        "# Install required packages.\n",
        "!pip install pandas scikit-learn matplotlib seaborn openpyxl\n",
        "\n",
        "import pandas as pd\n",
        "\n",
        "# Load the dataset from the UCI repository.\n",
        "url = \"https://archive.ics.uci.edu/ml/machine-learning-databases/00352/Online%20Retail.xlsx\"\n",
        "data = pd.read_excel(url)\n",
        "\n",
        "# Quick look of the dataset.\n",
        "print(data.head())\n",
        "print(data.shape)"
      ]
    },
    {
      "cell_type": "markdown",
      "source": [
        "**Objective 2: Cleaning the Data**\n",
        "\n",
        "**Goal:** Prepare data for clustering.\n",
        "\n",
        "**What You’ll Learn:** Data preprocessing."
      ],
      "metadata": {
        "id": "o-Ynma-re7xb"
      }
    },
    {
      "cell_type": "code",
      "source": [
        "# Remove rows with missing values.\n",
        "data = data.dropna()\n",
        "\n",
        "# Select numerical columns.\n",
        "data_numeric = data[['Quantity', 'UnitPrice']]\n",
        "\n",
        "# Remove outliers: keep only positive values.\n",
        "data_numeric = data_numeric[(data_numeric['Quantity'] > 0) & (data_numeric['UnitPrice'] > 0)]\n",
        "\n",
        "# Quick look of the cleaned dataset.\n",
        "print(data_numeric.head())\n",
        "print(data_numeric.shape)"
      ],
      "metadata": {
        "colab": {
          "base_uri": "https://localhost:8080/"
        },
        "id": "wSPWZRdafJku",
        "outputId": "fdf2785e-0b4b-4d41-c13d-9787262734c3"
      },
      "execution_count": null,
      "outputs": [
        {
          "output_type": "stream",
          "name": "stdout",
          "text": [
            "   Quantity  UnitPrice\n",
            "0         6       2.55\n",
            "1         6       3.39\n",
            "2         8       2.75\n",
            "3         6       3.39\n",
            "4         6       3.39\n",
            "(397884, 2)\n"
          ]
        }
      ]
    },
    {
      "cell_type": "markdown",
      "source": [
        "**Objective 3: Using the Elbow Method**\n",
        "\n",
        "**Goal:** Find the best number of clusters.\n",
        "\n",
        "**What You’ll Learn:** Optimizing K-Means."
      ],
      "metadata": {
        "id": "VZq0ROcKgtnp"
      }
    },
    {
      "cell_type": "code",
      "source": [
        "from sklearn.cluster import KMeans\n",
        "import matplotlib.pyplot as plt\n",
        "\n",
        "# Use a small sample of 1000 data points for faster computation.\n",
        "data_sample = data_numeric.sample(1000, random_state=42)\n",
        "\n",
        "# Calculate inertia for cluster counts from 1 to 10.\n",
        "inertia = []\n",
        "for k in range(1, 11):\n",
        "    kmeans = KMeans(n_clusters=k, random_state=42)\n",
        "    kmeans.fit(data_sample)\n",
        "    inertia.append(kmeans.inertia_)\n",
        "\n",
        "# Plot the Elbow curve to visualize optimal K.\n",
        "plt.plot(range(1, 11), inertia, marker='o')\n",
        "plt.title(\"Elbow Method for Optimal K\")\n",
        "plt.xlabel(\"Number of Clusters (K)\")\n",
        "plt.ylabel(\"Inertia\")\n",
        "plt.show()"
      ],
      "metadata": {
        "colab": {
          "base_uri": "https://localhost:8080/",
          "height": 472
        },
        "id": "OsE4cb4zg1mg",
        "outputId": "675f2140-be94-4297-d48f-ddedd670421b"
      },
      "execution_count": null,
      "outputs": [
        {
          "output_type": "display_data",
          "data": {
            "text/plain": [
              "<Figure size 640x480 with 1 Axes>"
            ],
            "image/png": "[encoded data removed]"
          },
          "metadata": {}
        }
      ]
    },
    {
      "cell_type": "markdown",
      "source": [
        "**Objective 4: Applying K-Means Clustering**\n",
        "\n",
        "**Goal:** Cluster the data.\n",
        "\n",
        "**What You’ll Learn:** Unsupervised learning."
      ],
      "metadata": {
        "id": "UKRGOk6Nh7gQ"
      }
    },
    {
      "cell_type": "code",
      "source": [
        "# Set the K-Means (based on the Elbow curve).\n",
        "kmeans = KMeans(n_clusters=3, random_state=42)\n",
        "# Fit K-Means and predict clusters.\n",
        "clusters = kmeans.fit_predict(data_sample)\n",
        "\n",
        "# Add the cluster labels to the dataframe.\n",
        "data_sample['Cluster'] = clusters\n",
        "\n",
        "# Quick look of the Cluster dataset.\n",
        "print(data_sample.head())\n",
        "print(\"Cluster counts:\", data_sample['Cluster'].value_counts())"
      ],
      "metadata": {
        "colab": {
          "base_uri": "https://localhost:8080/"
        },
        "id": "_BgWNT06ia1q",
        "outputId": "dbd2eed8-cc4a-446b-8656-eec76556646a"
      },
      "execution_count": null,
      "outputs": [
        {
          "output_type": "stream",
          "name": "stdout",
          "text": [
            "        Quantity  UnitPrice  Cluster\n",
            "459141         6       2.08        0\n",
            "262111        12       2.95        0\n",
            "374705        16       0.83        0\n",
            "263904         2       8.50        0\n",
            "138970       200       1.65        0\n",
            "Cluster counts: Cluster\n",
            "0    998\n",
            "1      1\n",
            "2      1\n",
            "Name: count, dtype: int64\n"
          ]
        }
      ]
    },
    {
      "cell_type": "markdown",
      "source": [
        "**Objective 5: Reducing with PCA**\n",
        "\n",
        "**Goal:** Simplify data to 2D.\n",
        "\n",
        "**What You’ll Learn:** Dimensionality reduction."
      ],
      "metadata": {
        "id": "04vP6GO9khR6"
      }
    },
    {
      "cell_type": "code",
      "source": [
        "from sklearn.decomposition import PCA\n",
        "\n",
        "# Select features for PCA.\n",
        "features = data_sample[['Quantity', 'UnitPrice']]\n",
        "\n",
        "# Reduce components to 2D.\n",
        "pca = PCA(n_components=2)\n",
        "pca_result = pca.fit_transform(features)\n",
        "\n",
        "# Create a new dataframe with the PCA results and assign cluster labels.\n",
        "pca_df = pd.DataFrame(pca_result, columns=['PC1', 'PC2'])\n",
        "pca_df['Cluster'] = clusters\n",
        "\n",
        "# Quick look of the PCA results and the explained variance ratio.\n",
        "print(pca_df.head())\n",
        "print(\"Explained variance ratio:\", pca.explained_variance_ratio_)"
      ],
      "metadata": {
        "colab": {
          "base_uri": "https://localhost:8080/"
        },
        "id": "tUKk_mxLlIjI",
        "outputId": "2242f3b3-f85d-40e9-e1df-ad77d188189e"
      },
      "execution_count": null,
      "outputs": [
        {
          "output_type": "stream",
          "name": "stdout",
          "text": [
            "          PC1       PC2  Cluster\n",
            "0   -7.148232 -0.662017        0\n",
            "1   -1.150612  0.224242        0\n",
            "2    2.855119 -1.884908        0\n",
            "3  -11.165618  5.747117        0\n",
            "4  186.852221 -0.566187        0\n",
            "Explained variance ratio: [0.99853231 0.00146769]\n"
          ]
        }
      ]
    },
    {
      "cell_type": "markdown",
      "source": [
        "**Objective 6: Visualizing and Sharing**\n",
        "\n",
        "**Goal:** Plot results and share.\n",
        "\n",
        "**What You’ll Learn:** Combining ML and visualization."
      ],
      "metadata": {
        "id": "zlJ7wHeTnATo"
      }
    },
    {
      "cell_type": "code",
      "source": [
        "import seaborn as sns\n",
        "\n",
        "# Visualize the clusters using the PCA results.\n",
        "plt.figure(figsize=(8, 6))\n",
        "sns.scatterplot(x='PC1', y='PC2', hue='Cluster', data=pca_df, palette='deep')\n",
        "plt.title(\"PCA of Online Retail Data with K-Means Clusters\")\n",
        "plt.show()\n",
        "\n",
        "# Print final cluster counts and PCA explained variance details.\n",
        "print(\"Final Cluster counts:\", data_sample['Cluster'].value_counts())\n",
        "print(\"Explained variance ratio from PCA:\", pca.explained_variance_ratio_)"
      ],
      "metadata": {
        "colab": {
          "base_uri": "https://localhost:8080/",
          "height": 668
        },
        "id": "l0uprUY4nTCK",
        "outputId": "2fe2b27f-60db-4a22-982c-b619349492ee"
      },
      "execution_count": null,
      "outputs": [
        {
          "output_type": "display_data",
          "data": {
            "text/plain": [
              "<Figure size 800x600 with 1 Axes>"
            ],
            "image/png": "[encoded data removed]"
          },
          "metadata": {}
        },
        {
          "output_type": "stream",
          "name": "stdout",
          "text": [
            "Final Cluster counts: Cluster\n",
            "0    998\n",
            "1      1\n",
            "2      1\n",
            "Name: count, dtype: int64\n",
            "Explained variance ratio from PCA: [0.99853231 0.00146769]\n"
          ]
        }
      ]
    }
  ]
}